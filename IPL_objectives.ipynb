{
 "cells": [
  {
   "cell_type": "markdown",
   "id": "db08c5b0",
   "metadata": {},
   "source": [
    "# IPL outcome Prediction\n",
    "## The objective of this solution is to create dashboard that visualizes following capabilities and also forecast the future results\n",
    "1. To find the team that won the most number of matches in the entire IPL.\n",
    "2. To find the team that lost the most number of matches in the entire IPL.\n",
    "3. Does winning a toss increase the chances of victory.\n",
    "4. To find the player with the most player of the match awards.\n",
    "5. To find the city that hosted the maximum number of IPL matches.\n",
    "6. To find the most winning team for each season.\n",
    "7. To find the on-field umpire with the maximum number of IPL matches.\n",
    "8. To find the biggest victories in IPL while defending a total and while chasing a total.\n",
    "9. Which team won the most matches while batting first.\n",
    "10. Which team won the most matches while batting second.\n",
    "11. List of teams which have won matches by most runs cumulatively\n"
   ]
  },
  {
   "cell_type": "code",
   "execution_count": 1,
   "id": "ac4e6197",
   "metadata": {},
   "outputs": [],
   "source": [
    "import numpy as np\n",
    "import seaborn as sns\n",
    "import pandas as pd\n",
    "import matplotlib.pyplot as plt\n",
    "import openpyxl\n",
    "import xlwt\n",
    "%matplotlib inline\n",
    "pd.options.mode.chained_assignment = None "
   ]
  },
  {
   "cell_type": "code",
   "execution_count": 2,
   "id": "508b749b",
   "metadata": {},
   "outputs": [],
   "source": [
    "df = pd.read_csv('../dataset/matches.csv')"
   ]
  },
  {
   "cell_type": "code",
   "execution_count": 3,
   "id": "8c5fe53a",
   "metadata": {},
   "outputs": [
    {
     "data": {
      "text/html": [
       "<div>\n",
       "<style scoped>\n",
       "    .dataframe tbody tr th:only-of-type {\n",
       "        vertical-align: middle;\n",
       "    }\n",
       "\n",
       "    .dataframe tbody tr th {\n",
       "        vertical-align: top;\n",
       "    }\n",
       "\n",
       "    .dataframe thead th {\n",
       "        text-align: right;\n",
       "    }\n",
       "</style>\n",
       "<table border=\"1\" class=\"dataframe\">\n",
       "  <thead>\n",
       "    <tr style=\"text-align: right;\">\n",
       "      <th></th>\n",
       "      <th>id</th>\n",
       "      <th>season</th>\n",
       "      <th>city</th>\n",
       "      <th>date</th>\n",
       "      <th>team1</th>\n",
       "      <th>team2</th>\n",
       "      <th>toss_winner</th>\n",
       "      <th>toss_decision</th>\n",
       "      <th>result</th>\n",
       "      <th>dl_applied</th>\n",
       "      <th>winner</th>\n",
       "      <th>win_by_runs</th>\n",
       "      <th>win_by_wickets</th>\n",
       "      <th>player_of_match</th>\n",
       "      <th>venue</th>\n",
       "      <th>umpire1</th>\n",
       "      <th>umpire2</th>\n",
       "      <th>umpire3</th>\n",
       "    </tr>\n",
       "  </thead>\n",
       "  <tbody>\n",
       "    <tr>\n",
       "      <th>0</th>\n",
       "      <td>1</td>\n",
       "      <td>2017</td>\n",
       "      <td>Hyderabad</td>\n",
       "      <td>05-04-2017</td>\n",
       "      <td>Sunrisers Hyderabad</td>\n",
       "      <td>Royal Challengers Bangalore</td>\n",
       "      <td>Royal Challengers Bangalore</td>\n",
       "      <td>field</td>\n",
       "      <td>normal</td>\n",
       "      <td>0</td>\n",
       "      <td>Sunrisers Hyderabad</td>\n",
       "      <td>35</td>\n",
       "      <td>0</td>\n",
       "      <td>Yuvraj Singh</td>\n",
       "      <td>Rajiv Gandhi International Stadium, Uppal</td>\n",
       "      <td>AY Dandekar</td>\n",
       "      <td>NJ Llong</td>\n",
       "      <td>NaN</td>\n",
       "    </tr>\n",
       "    <tr>\n",
       "      <th>1</th>\n",
       "      <td>2</td>\n",
       "      <td>2017</td>\n",
       "      <td>Pune</td>\n",
       "      <td>06-04-2017</td>\n",
       "      <td>Mumbai Indians</td>\n",
       "      <td>Rising Pune Supergiant</td>\n",
       "      <td>Rising Pune Supergiant</td>\n",
       "      <td>field</td>\n",
       "      <td>normal</td>\n",
       "      <td>0</td>\n",
       "      <td>Rising Pune Supergiant</td>\n",
       "      <td>0</td>\n",
       "      <td>7</td>\n",
       "      <td>SPD Smith</td>\n",
       "      <td>Maharashtra Cricket Association Stadium</td>\n",
       "      <td>A Nand Kishore</td>\n",
       "      <td>S Ravi</td>\n",
       "      <td>NaN</td>\n",
       "    </tr>\n",
       "    <tr>\n",
       "      <th>2</th>\n",
       "      <td>3</td>\n",
       "      <td>2017</td>\n",
       "      <td>Rajkot</td>\n",
       "      <td>07-04-2017</td>\n",
       "      <td>Gujarat Lions</td>\n",
       "      <td>Kolkata Knight Riders</td>\n",
       "      <td>Kolkata Knight Riders</td>\n",
       "      <td>field</td>\n",
       "      <td>normal</td>\n",
       "      <td>0</td>\n",
       "      <td>Kolkata Knight Riders</td>\n",
       "      <td>0</td>\n",
       "      <td>10</td>\n",
       "      <td>CA Lynn</td>\n",
       "      <td>Saurashtra Cricket Association Stadium</td>\n",
       "      <td>Nitin Menon</td>\n",
       "      <td>CK Nandan</td>\n",
       "      <td>NaN</td>\n",
       "    </tr>\n",
       "    <tr>\n",
       "      <th>3</th>\n",
       "      <td>4</td>\n",
       "      <td>2017</td>\n",
       "      <td>Indore</td>\n",
       "      <td>08-04-2017</td>\n",
       "      <td>Rising Pune Supergiant</td>\n",
       "      <td>Kings XI Punjab</td>\n",
       "      <td>Kings XI Punjab</td>\n",
       "      <td>field</td>\n",
       "      <td>normal</td>\n",
       "      <td>0</td>\n",
       "      <td>Kings XI Punjab</td>\n",
       "      <td>0</td>\n",
       "      <td>6</td>\n",
       "      <td>GJ Maxwell</td>\n",
       "      <td>Holkar Cricket Stadium</td>\n",
       "      <td>AK Chaudhary</td>\n",
       "      <td>C Shamshuddin</td>\n",
       "      <td>NaN</td>\n",
       "    </tr>\n",
       "    <tr>\n",
       "      <th>4</th>\n",
       "      <td>5</td>\n",
       "      <td>2017</td>\n",
       "      <td>Bangalore</td>\n",
       "      <td>08-04-2017</td>\n",
       "      <td>Royal Challengers Bangalore</td>\n",
       "      <td>Delhi Daredevils</td>\n",
       "      <td>Royal Challengers Bangalore</td>\n",
       "      <td>bat</td>\n",
       "      <td>normal</td>\n",
       "      <td>0</td>\n",
       "      <td>Royal Challengers Bangalore</td>\n",
       "      <td>15</td>\n",
       "      <td>0</td>\n",
       "      <td>KM Jadhav</td>\n",
       "      <td>M Chinnaswamy Stadium</td>\n",
       "      <td>NaN</td>\n",
       "      <td>NaN</td>\n",
       "      <td>NaN</td>\n",
       "    </tr>\n",
       "  </tbody>\n",
       "</table>\n",
       "</div>"
      ],
      "text/plain": [
       "   id  season       city        date                        team1  \\\n",
       "0   1    2017  Hyderabad  05-04-2017          Sunrisers Hyderabad   \n",
       "1   2    2017       Pune  06-04-2017               Mumbai Indians   \n",
       "2   3    2017     Rajkot  07-04-2017                Gujarat Lions   \n",
       "3   4    2017     Indore  08-04-2017       Rising Pune Supergiant   \n",
       "4   5    2017  Bangalore  08-04-2017  Royal Challengers Bangalore   \n",
       "\n",
       "                         team2                  toss_winner toss_decision  \\\n",
       "0  Royal Challengers Bangalore  Royal Challengers Bangalore         field   \n",
       "1       Rising Pune Supergiant       Rising Pune Supergiant         field   \n",
       "2        Kolkata Knight Riders        Kolkata Knight Riders         field   \n",
       "3              Kings XI Punjab              Kings XI Punjab         field   \n",
       "4             Delhi Daredevils  Royal Challengers Bangalore           bat   \n",
       "\n",
       "   result  dl_applied                       winner  win_by_runs  \\\n",
       "0  normal           0          Sunrisers Hyderabad           35   \n",
       "1  normal           0       Rising Pune Supergiant            0   \n",
       "2  normal           0        Kolkata Knight Riders            0   \n",
       "3  normal           0              Kings XI Punjab            0   \n",
       "4  normal           0  Royal Challengers Bangalore           15   \n",
       "\n",
       "   win_by_wickets player_of_match                                      venue  \\\n",
       "0               0    Yuvraj Singh  Rajiv Gandhi International Stadium, Uppal   \n",
       "1               7       SPD Smith    Maharashtra Cricket Association Stadium   \n",
       "2              10         CA Lynn     Saurashtra Cricket Association Stadium   \n",
       "3               6      GJ Maxwell                     Holkar Cricket Stadium   \n",
       "4               0       KM Jadhav                      M Chinnaswamy Stadium   \n",
       "\n",
       "          umpire1        umpire2 umpire3  \n",
       "0     AY Dandekar       NJ Llong     NaN  \n",
       "1  A Nand Kishore         S Ravi     NaN  \n",
       "2     Nitin Menon      CK Nandan     NaN  \n",
       "3    AK Chaudhary  C Shamshuddin     NaN  \n",
       "4             NaN            NaN     NaN  "
      ]
     },
     "execution_count": 3,
     "metadata": {},
     "output_type": "execute_result"
    }
   ],
   "source": [
    "df.head()"
   ]
  },
  {
   "cell_type": "markdown",
   "id": "7f1cfcf2",
   "metadata": {},
   "source": [
    "# Data Cleaning"
   ]
  },
  {
   "cell_type": "code",
   "execution_count": 4,
   "id": "a07f942c",
   "metadata": {},
   "outputs": [
    {
     "data": {
      "text/plain": [
       "Index(['id', 'season', 'city', 'date', 'team1', 'team2', 'toss_winner',\n",
       "       'toss_decision', 'result', 'dl_applied', 'winner', 'win_by_runs',\n",
       "       'win_by_wickets', 'player_of_match', 'venue', 'umpire1', 'umpire2',\n",
       "       'umpire3'],\n",
       "      dtype='object')"
      ]
     },
     "execution_count": 4,
     "metadata": {},
     "output_type": "execute_result"
    }
   ],
   "source": [
    "df.columns"
   ]
  },
  {
   "cell_type": "code",
   "execution_count": 5,
   "id": "7fddb369",
   "metadata": {
    "scrolled": true
   },
   "outputs": [
    {
     "data": {
      "text/plain": [
       "array(['Hyderabad', 'Pune', 'Rajkot', 'Indore', 'Bengaluru', 'Mumbai',\n",
       "       'Kolkata', 'Delhi', 'Chandigarh', 'Kanpur', 'Jaipur', 'Chennai',\n",
       "       'Cape Town', 'Port Elizabeth', 'Durban', 'Centurion',\n",
       "       'East London', 'Johannesburg', 'Kimberley', 'Bloemfontein',\n",
       "       'Ahmedabad', 'Cuttack', 'Nagpur', 'Dharamsala', 'Kochi',\n",
       "       'Visakhapatnam', 'Raipur', 'Ranchi', 'Abu Dhabi', 'Sharjah', nan,\n",
       "       'Mohali'], dtype=object)"
      ]
     },
     "execution_count": 5,
     "metadata": {},
     "output_type": "execute_result"
    }
   ],
   "source": [
    "df.city.replace({\"Bangalore\":\"Bengaluru\"}, inplace = True)\n",
    "df.city.unique()\n"
   ]
  },
  {
   "cell_type": "code",
   "execution_count": 6,
   "id": "ef1b7966",
   "metadata": {},
   "outputs": [],
   "source": [
    "'''array(['Sunrisers Hyderabad', 'Mumbai Indians', 'Gujarat Lions',\n",
    "       'Rising Pune Supergiants', 'Royal Challengers Bangalore',\n",
    "       'Kolkata Knight Riders', 'Delhi Daredevils', 'Kings XI Punjab',\n",
    "       'Chennai Super Kings', 'Rajasthan Royals', 'Deccan Chargers',\n",
    "       'Kochi Tuskers Kerala', 'Pune Warriors', 'Delhi Capitals'],\n",
    "      dtype=object)\n",
    "'''\n",
    "df.team1.replace({\"Rising Pune Supergiant\":\"Rising Pune Supergiants\"},inplace = True)\n",
    "df.team2.replace({\"Rising Pune Supergiant\":\"Rising Pune Supergiants\"},inplace = True)\n",
    "df.toss_winner.replace({\"Rising Pune Supergiant\":\"Rising Pune Supergiants\"},inplace = True)\n",
    "df.winner.replace({\"Rising Pune Supergiant\":\"Rising Pune Supergiants\"},inplace = True)\n",
    "# df.team1.unique()\n",
    "df.team1.replace({\"Delhi Capitals\":\"Delhi Daredevils\"},inplace = True)\n",
    "df.team2.replace({\"Delhi Capitals\":\"Delhi Daredevils\"},inplace = True)\n",
    "df.toss_winner.replace({\"Delhi Capitals\":\"Delhi Daredevils\"},inplace = True)\n",
    "df.winner.replace({\"Delhi Capitals\":\"Delhi Daredevils\"},inplace = True)\n",
    "\n",
    "df.team1.replace({\"Deccan Chargers\":\"Sunrisers Hyderabad\"},inplace = True)\n",
    "df.team2.replace({\"Deccan Chargers\":\"Sunrisers Hyderabad\"},inplace = True)\n",
    "df.toss_winner.replace({\"Deccan Chargers\":\"Sunrisers Hyderabad\"},inplace = True)\n",
    "df.winner.replace({\"Deccan Chargers\":\"Sunrisers Hyderabad\"},inplace = True)"
   ]
  },
  {
   "cell_type": "code",
   "execution_count": 7,
   "id": "11f5798e",
   "metadata": {},
   "outputs": [],
   "source": [
    "df.venue.replace({'Feroz Shah Kotla Ground':'Feroz Shah Kotla',\n",
    "                    'M Chinnaswamy Stadium':'M. Chinnaswamy Stadium',\n",
    "                    'MA Chidambaram Stadium, Chepauk':'M.A. Chidambaram Stadium',\n",
    "                     'M. A. Chidambaram Stadium':'M.A. Chidambaram Stadium',\n",
    "                     'Punjab Cricket Association IS Bindra Stadium, Mohali':'Punjab Cricket Association Stadium',\n",
    "                     'Punjab Cricket Association Stadium, Mohali':'Punjab Cricket Association Stadium',\n",
    "                     'IS Bindra Stadium':'Punjab Cricket Association Stadium',\n",
    "                    'Rajiv Gandhi International Stadium, Uppal':'Rajiv Gandhi International Stadium',\n",
    "                    'Rajiv Gandhi Intl. Cricket Stadium':'Rajiv Gandhi International Stadium'},inplace=True)"
   ]
  },
  {
   "cell_type": "markdown",
   "id": "ed8d0691",
   "metadata": {},
   "source": [
    "### Handling Missing Values"
   ]
  },
  {
   "cell_type": "code",
   "execution_count": 8,
   "id": "3733b24a",
   "metadata": {},
   "outputs": [
    {
     "data": {
      "text/plain": [
       "0      Yuvraj Singh\n",
       "1         SPD Smith\n",
       "2           CA Lynn\n",
       "3        GJ Maxwell\n",
       "4         KM Jadhav\n",
       "           ...     \n",
       "751       HH Pandya\n",
       "752        AS Yadav\n",
       "753         RR Pant\n",
       "754    F du Plessis\n",
       "755       JJ Bumrah\n",
       "Name: player_of_match, Length: 756, dtype: object"
      ]
     },
     "execution_count": 8,
     "metadata": {},
     "output_type": "execute_result"
    }
   ],
   "source": [
    "df.city.fillna(\"unknown\")\n",
    "df.winner.fillna(\"unknown\")\n",
    "df.umpire3.fillna(\"unknown\")\n",
    "df.umpire1.fillna(\"unknown\")\n",
    "df.umpire2.fillna(\"unknown\")\n",
    "df.result.fillna(\"unknown\")\n",
    "df.player_of_match.fillna(\"unknown\")"
   ]
  },
  {
   "cell_type": "code",
   "execution_count": 9,
   "id": "d4ea20b1",
   "metadata": {},
   "outputs": [],
   "source": [
    "df.to_csv(\"newdf.csv\")"
   ]
  },
  {
   "cell_type": "markdown",
   "id": "9d20465f",
   "metadata": {},
   "source": [
    "# #1.To find the team that won the most number of matches in the entire IPL.\n"
   ]
  },
  {
   "cell_type": "code",
   "execution_count": 10,
   "id": "db6c83eb",
   "metadata": {},
   "outputs": [],
   "source": [
    "most_no_of_wins = df.groupby('winner').apply(lambda x: x).reset_index()\n",
    "most_no_of_wins = most_no_of_wins.groupby('winner').count()\n",
    "most_no_of_wins = most_no_of_wins.city.reset_index(name='No_Of_Wins')\n",
    "most_no_of_wins = most_no_of_wins.sort_values(by='No_Of_Wins',ascending=False)\n",
    "#exporting to xlsx\n",
    "# most_no_of_wins.to_excel('D:/IPL/output/1_most_wins_by_team.xlsx')"
   ]
  },
  {
   "cell_type": "markdown",
   "id": "55c99c8b",
   "metadata": {},
   "source": [
    "## Plotting"
   ]
  },
  {
   "cell_type": "code",
   "execution_count": 10,
   "id": "f154393e",
   "metadata": {},
   "outputs": [
    {
     "data": {
      "image/png": "[encoded data removed]",
      "text/plain": [
       "<Figure size 432x288 with 1 Axes>"
      ]
     },
     "metadata": {
      "needs_background": "light"
     },
     "output_type": "display_data"
    }
   ],
   "source": [
    "plt.title(\"Most Number Of Wins\")\n",
    "plt.bar(most_no_of_wins.winner , most_no_of_wins.No_Of_Wins)\n",
    "plt.xlabel(\"Teams\")\n",
    "plt.ylabel(\"No of  Wins\")\n",
    "count = 0\n",
    "for i in most_no_of_wins.No_Of_Wins:\n",
    "    plt.text(count-0.2,i-4,str(i))\n",
    "    count+=1\n",
    "plt.xticks(rotation = 90)\n",
    "plt.yticks()\n",
    "plt.show()"
   ]
  },
  {
   "cell_type": "markdown",
   "id": "0cb33654",
   "metadata": {},
   "source": [
    "### 2.To find the team that lost the most number of matches in the entire IPL."
   ]
  },
  {
   "cell_type": "code",
   "execution_count": 19,
   "id": "6d938064",
   "metadata": {},
   "outputs": [],
   "source": [
    "dd = df"
   ]
  },
  {
   "cell_type": "code",
   "execution_count": 20,
   "id": "29dd4901",
   "metadata": {},
   "outputs": [
    {
     "data": {
      "text/html": [
       "<div>\n",
       "<style scoped>\n",
       "    .dataframe tbody tr th:only-of-type {\n",
       "        vertical-align: middle;\n",
       "    }\n",
       "\n",
       "    .dataframe tbody tr th {\n",
       "        vertical-align: top;\n",
       "    }\n",
       "\n",
       "    .dataframe thead th {\n",
       "        text-align: right;\n",
       "    }\n",
       "</style>\n",
       "<table border=\"1\" class=\"dataframe\">\n",
       "  <thead>\n",
       "    <tr style=\"text-align: right;\">\n",
       "      <th></th>\n",
       "      <th>Matches Lost</th>\n",
       "      <th>Teams</th>\n",
       "    </tr>\n",
       "  </thead>\n",
       "  <tbody>\n",
       "    <tr>\n",
       "      <th>0</th>\n",
       "      <td>Sunrisers Hyderabad</td>\n",
       "      <td>96</td>\n",
       "    </tr>\n",
       "    <tr>\n",
       "      <th>4</th>\n",
       "      <td>Royal Challengers Bangalore</td>\n",
       "      <td>93</td>\n",
       "    </tr>\n",
       "    <tr>\n",
       "      <th>3</th>\n",
       "      <td>Rising Pune Supergiants</td>\n",
       "      <td>15</td>\n",
       "    </tr>\n",
       "    <tr>\n",
       "      <th>9</th>\n",
       "      <td>Rajasthan Royals</td>\n",
       "      <td>70</td>\n",
       "    </tr>\n",
       "    <tr>\n",
       "      <th>11</th>\n",
       "      <td>Pune Warriors</td>\n",
       "      <td>33</td>\n",
       "    </tr>\n",
       "    <tr>\n",
       "      <th>1</th>\n",
       "      <td>Mumbai Indians</td>\n",
       "      <td>78</td>\n",
       "    </tr>\n",
       "    <tr>\n",
       "      <th>5</th>\n",
       "      <td>Kolkata Knight Riders</td>\n",
       "      <td>86</td>\n",
       "    </tr>\n",
       "    <tr>\n",
       "      <th>10</th>\n",
       "      <td>Kochi Tuskers Kerala</td>\n",
       "      <td>8</td>\n",
       "    </tr>\n",
       "    <tr>\n",
       "      <th>7</th>\n",
       "      <td>Kings XI Punjab</td>\n",
       "      <td>94</td>\n",
       "    </tr>\n",
       "    <tr>\n",
       "      <th>2</th>\n",
       "      <td>Gujarat Lions</td>\n",
       "      <td>17</td>\n",
       "    </tr>\n",
       "    <tr>\n",
       "      <th>6</th>\n",
       "      <td>Delhi Daredevils</td>\n",
       "      <td>98</td>\n",
       "    </tr>\n",
       "    <tr>\n",
       "      <th>8</th>\n",
       "      <td>Chennai Super Kings</td>\n",
       "      <td>64</td>\n",
       "    </tr>\n",
       "  </tbody>\n",
       "</table>\n",
       "</div>"
      ],
      "text/plain": [
       "                   Matches Lost  Teams\n",
       "0           Sunrisers Hyderabad     96\n",
       "4   Royal Challengers Bangalore     93\n",
       "3       Rising Pune Supergiants     15\n",
       "9              Rajasthan Royals     70\n",
       "11                Pune Warriors     33\n",
       "1                Mumbai Indians     78\n",
       "5         Kolkata Knight Riders     86\n",
       "10         Kochi Tuskers Kerala      8\n",
       "7               Kings XI Punjab     94\n",
       "2                 Gujarat Lions     17\n",
       "6              Delhi Daredevils     98\n",
       "8           Chennai Super Kings     64"
      ]
     },
     "execution_count": 20,
     "metadata": {},
     "output_type": "execute_result"
    }
   ],
   "source": [
    "# 1. Who played most matches\n",
    "# 2. Who not in winner\n",
    "# Kochi Tuskers Kerala Delhi Capitals\n",
    "test_keys = dd.team1.unique()\n",
    "lost = {test_keys[i]: 0 for i in range(len(test_keys))}\n",
    "t1, t2, win = dd.team1, dd.team2, dd['winner']\n",
    "for t1,t2, win in zip(t1,t2,win):\n",
    "    if t1 == win:\n",
    "        lost[t2] += 1\n",
    "    elif t2 == win:\n",
    "        lost[t1] += 1\n",
    "        \n",
    "team_lost = pd.DataFrame(lost.items(), columns={'Matches Lost', 'Team'})\n",
    "team_lost.sort_values(['Matches Lost'], axis = 0, ascending = False, inplace = True, na_position ='last')\n",
    "team_lost.rename(columns={'Matches Lost':'Teams', 'Team':'Matches Lost'}, inplace=True)\n",
    "team_lost.sort_values(['Matches Lost'], axis = 0, ascending = False, inplace = True, na_position ='last')\n",
    "team_lost\n",
    "# export to xlsx\n",
    "# team_lost.to_excel('../output/2_most_matches_lost.xlsx', sheet_name='matches Lost')"
   ]
  },
  {
   "cell_type": "markdown",
   "id": "1fe39efd",
   "metadata": {},
   "source": [
    "#  Plotting"
   ]
  },
  {
   "cell_type": "code",
   "execution_count": 21,
   "id": "17f097ad",
   "metadata": {},
   "outputs": [
    {
     "data": {
      "image/png": "[encoded data removed]",
      "text/plain": [
       "<Figure size 432x288 with 1 Axes>"
      ]
     },
     "metadata": {
      "needs_background": "light"
     },
     "output_type": "display_data"
    }
   ],
   "source": [
    "plt.title(\"Most Number Of Matches Lost\")\n",
    "plt.bar( team_lost['Teams'], team_lost['Matches Lost'])\n",
    "plt.xlabel(\"Teams\")\n",
    "plt.ylabel(\"No of  Wins\")\n",
    "\n",
    "plt.xticks(rotation = 90)\n",
    "plt.yticks()\n",
    "plt.show()"
   ]
  },
  {
   "cell_type": "markdown",
   "id": "f04818fb",
   "metadata": {},
   "source": [
    "### 3.Does winning a toss increase the chances of victory."
   ]
  },
  {
   "cell_type": "code",
   "execution_count": 22,
   "id": "abac03f8",
   "metadata": {
    "scrolled": true
   },
   "outputs": [
    {
     "name": "stdout",
     "output_type": "stream",
     "text": [
      "The number of times the team winning toss have won: 393\n",
      "The probability of winning if won the toss: 0.52\n"
     ]
    }
   ],
   "source": [
    "dd = df\n",
    "win_count, team = 0, []\n",
    "# counting the winner count\n",
    "for index, value in df.iterrows():\n",
    "    if(value['toss_winner']==value['winner']):\n",
    "#         print(value['winner'])\n",
    "#         team.append(value['winner'])\n",
    "        win_count += 1\n",
    "print(f'The number of times the team winning toss have won: {win_count}')\n",
    "prob = win_count/len(df)\n",
    "print('The probability of winning if won the toss: {:.2f}' .format(prob))    \n"
   ]
  },
  {
   "cell_type": "code",
   "execution_count": 23,
   "id": "ec8c94d5",
   "metadata": {},
   "outputs": [],
   "source": [
    "test_keys = dd.team1.unique()\n",
    "winning = {test_keys[i]: 0 for i in range(len(test_keys))}\n",
    "t1, t2, win, toss_won = dd.team1, dd.team2, dd['winner'], dd['toss_winner']\n",
    "for t1,t2, win, twin in zip(t1,t2,win, toss_won):\n",
    "    if t1 == win and t1 == twin:\n",
    "        winning[t1] += 1\n",
    "    elif t2 == win and t2 == twin:\n",
    "        winning[t2] += 1\n",
    "        \n",
    "toss_win = pd.DataFrame(lost.items(), columns={'Tosses Won', 'Team'})"
   ]
  },
  {
   "cell_type": "code",
   "execution_count": 24,
   "id": "0a65a925",
   "metadata": {
    "scrolled": true
   },
   "outputs": [],
   "source": [
    "# List extracted from matches Won and sorted according to Tosses Won\n",
    "toss_win.insert(1, \"Matches Won\", [85,109,13,15, 83,92, 76,81,98,75,6,12], True)"
   ]
  },
  {
   "cell_type": "code",
   "execution_count": 25,
   "id": "5baf71bc",
   "metadata": {},
   "outputs": [
    {
     "data": {
      "text/html": [
       "<div>\n",
       "<style scoped>\n",
       "    .dataframe tbody tr th:only-of-type {\n",
       "        vertical-align: middle;\n",
       "    }\n",
       "\n",
       "    .dataframe tbody tr th {\n",
       "        vertical-align: top;\n",
       "    }\n",
       "\n",
       "    .dataframe thead th {\n",
       "        text-align: right;\n",
       "    }\n",
       "</style>\n",
       "<table border=\"1\" class=\"dataframe\">\n",
       "  <thead>\n",
       "    <tr style=\"text-align: right;\">\n",
       "      <th></th>\n",
       "      <th>Tosses Won</th>\n",
       "      <th>Matches Won</th>\n",
       "      <th>Team</th>\n",
       "    </tr>\n",
       "  </thead>\n",
       "  <tbody>\n",
       "    <tr>\n",
       "      <th>0</th>\n",
       "      <td>Sunrisers Hyderabad</td>\n",
       "      <td>85</td>\n",
       "      <td>96</td>\n",
       "    </tr>\n",
       "    <tr>\n",
       "      <th>1</th>\n",
       "      <td>Mumbai Indians</td>\n",
       "      <td>109</td>\n",
       "      <td>78</td>\n",
       "    </tr>\n",
       "    <tr>\n",
       "      <th>2</th>\n",
       "      <td>Gujarat Lions</td>\n",
       "      <td>13</td>\n",
       "      <td>17</td>\n",
       "    </tr>\n",
       "    <tr>\n",
       "      <th>3</th>\n",
       "      <td>Rising Pune Supergiants</td>\n",
       "      <td>15</td>\n",
       "      <td>15</td>\n",
       "    </tr>\n",
       "    <tr>\n",
       "      <th>4</th>\n",
       "      <td>Royal Challengers Bangalore</td>\n",
       "      <td>83</td>\n",
       "      <td>93</td>\n",
       "    </tr>\n",
       "    <tr>\n",
       "      <th>5</th>\n",
       "      <td>Kolkata Knight Riders</td>\n",
       "      <td>92</td>\n",
       "      <td>86</td>\n",
       "    </tr>\n",
       "    <tr>\n",
       "      <th>6</th>\n",
       "      <td>Delhi Daredevils</td>\n",
       "      <td>76</td>\n",
       "      <td>98</td>\n",
       "    </tr>\n",
       "    <tr>\n",
       "      <th>7</th>\n",
       "      <td>Kings XI Punjab</td>\n",
       "      <td>81</td>\n",
       "      <td>94</td>\n",
       "    </tr>\n",
       "    <tr>\n",
       "      <th>8</th>\n",
       "      <td>Chennai Super Kings</td>\n",
       "      <td>98</td>\n",
       "      <td>64</td>\n",
       "    </tr>\n",
       "    <tr>\n",
       "      <th>9</th>\n",
       "      <td>Rajasthan Royals</td>\n",
       "      <td>75</td>\n",
       "      <td>70</td>\n",
       "    </tr>\n",
       "    <tr>\n",
       "      <th>10</th>\n",
       "      <td>Kochi Tuskers Kerala</td>\n",
       "      <td>6</td>\n",
       "      <td>8</td>\n",
       "    </tr>\n",
       "    <tr>\n",
       "      <th>11</th>\n",
       "      <td>Pune Warriors</td>\n",
       "      <td>12</td>\n",
       "      <td>33</td>\n",
       "    </tr>\n",
       "  </tbody>\n",
       "</table>\n",
       "</div>"
      ],
      "text/plain": [
       "                     Tosses Won  Matches Won  Team\n",
       "0           Sunrisers Hyderabad           85    96\n",
       "1                Mumbai Indians          109    78\n",
       "2                 Gujarat Lions           13    17\n",
       "3       Rising Pune Supergiants           15    15\n",
       "4   Royal Challengers Bangalore           83    93\n",
       "5         Kolkata Knight Riders           92    86\n",
       "6              Delhi Daredevils           76    98\n",
       "7               Kings XI Punjab           81    94\n",
       "8           Chennai Super Kings           98    64\n",
       "9              Rajasthan Royals           75    70\n",
       "10         Kochi Tuskers Kerala            6     8\n",
       "11                Pune Warriors           12    33"
      ]
     },
     "execution_count": 25,
     "metadata": {},
     "output_type": "execute_result"
    }
   ],
   "source": [
    "toss_win\n",
    "# toss_win.to_excel('../output/3.xlsx', sheet_name='matches Lost')"
   ]
  },
  {
   "cell_type": "markdown",
   "id": "93935661",
   "metadata": {},
   "source": [
    "## Plotting"
   ]
  },
  {
   "cell_type": "code",
   "execution_count": 26,
   "id": "aefd5ee7",
   "metadata": {},
   "outputs": [
    {
     "data": {
      "image/png": "[encoded data removed]",
      "text/plain": [
       "<Figure size 432x288 with 2 Axes>"
      ]
     },
     "metadata": {
      "needs_background": "light"
     },
     "output_type": "display_data"
    }
   ],
   "source": [
    "# Team --> x-axis\n",
    "# Tosees Won --> y-axis\n",
    "# Matches Won --> line\n",
    "\n",
    "width = 0.35  # width of bar\n",
    "axs = toss_win[['Matches Won']].plot(secondary_y=True, color='red')\n",
    "toss_win[['Team', 'Tosses Won']].plot(kind='bar', width = width,  ax=axs)\n",
    "# toss_win[['Team', 'Tosses Won']].plot(kind='bar', width = 0.35)\n",
    "# toss_win[['Matches Won']].plot(secondary_y=True)\n",
    "\n",
    "ax = plt.gca()\n",
    "# plt.xlim([-width, len(toss_win['Tosses Won'])-width])\n",
    "# plt.xticks(rotation=90)\n",
    "ax.set_xticklabels(tuple(toss_win.Team))\n",
    "plt.title('Plot on Winning a toss increase the chances of victory', size =25)\n",
    "plt.xlabel('Team',size =25)\n",
    "plt.ylabel('Number of matches',size =25)\n",
    "plt.xticks(rotation=90,size = 15)\n",
    "# ax.set_xticklabels(ax.get_xticks(), rotation = 45)\n",
    "# plt.xticks( rotation=90)\n",
    "plt.show()\n"
   ]
  },
  {
   "cell_type": "markdown",
   "id": "73bd19ba",
   "metadata": {},
   "source": [
    "### 4.To find the player with the most player of the match awards."
   ]
  },
  {
   "cell_type": "code",
   "execution_count": null,
   "id": "70831f14",
   "metadata": {},
   "outputs": [],
   "source": [
    "mom = df.groupby('player_of_match').apply(lambda x: x).reset_index()\n",
    "mom = mom.groupby('player_of_match').count()\n",
    "mom = mom.city.reset_index(name='No_Of_Awards')\n",
    "mom = mom.sort_values(by='No_Of_Awards',ascending=False)\n",
    "mom = mom.head(10)\n",
    "# exporting to xlsx\n",
    "# mom.to_excel('../output/4_most_MOM.xlsx', sheet_name='Most Man of Match')"
   ]
  },
  {
   "cell_type": "code",
   "execution_count": null,
   "id": "e0ed7fff",
   "metadata": {},
   "outputs": [],
   "source": [
    "mom"
   ]
  },
  {
   "cell_type": "markdown",
   "id": "b3d118b8",
   "metadata": {},
   "source": [
    "## Plotting"
   ]
  },
  {
   "cell_type": "code",
   "execution_count": null,
   "id": "28a1fffb",
   "metadata": {},
   "outputs": [],
   "source": [
    "plt.title(\"Most Number Of MOM Awards\")\n",
    "plt.bar(mom.player_of_match , mom.No_Of_Awards)\n",
    "plt.xlabel(\"Name\")\n",
    "plt.ylabel(\"No of  Awards\")\n",
    "count = 0\n",
    "for i in mom.No_Of_Awards:\n",
    "    plt.text(count-0.2,i,str(i))\n",
    "    count+=1\n",
    "plt.xticks(rotation = 90)\n",
    "plt.yticks()\n",
    "plt.show()"
   ]
  },
  {
   "cell_type": "markdown",
   "id": "6a4da06c",
   "metadata": {},
   "source": [
    "## 5.To find the city that hosted the maximum number of IPL matches."
   ]
  },
  {
   "cell_type": "code",
   "execution_count": null,
   "id": "f7e0843e",
   "metadata": {},
   "outputs": [],
   "source": [
    "city_counts=df.groupby('city').apply(lambda x:x['city'].count()).reset_index(name='Match Counts')\n",
    "req_values = city_counts.sort_values('Match Counts' , ascending = False).reset_index(drop = True)\n",
    "req_values = req_values[:20]\n",
    "#exporting to xlsx\n",
    "# req_values.to_excel('../output/5_most_matches_cities.xlsx', sheet_name='Most City Hosted')"
   ]
  },
  {
   "cell_type": "markdown",
   "id": "e9504bd6",
   "metadata": {},
   "source": [
    "## Plotting"
   ]
  },
  {
   "cell_type": "code",
   "execution_count": null,
   "id": "8b802801",
   "metadata": {},
   "outputs": [],
   "source": [
    "plt.rcParams[\"figure.figsize\"] = (20, 10)\n",
    "plt.title('Venues that hosted the most number of matches', size =30)\n",
    "plt.xlabel('Venues',size =25)\n",
    "plt.ylabel('Number of matches',size =25)\n",
    "plt.xticks(rotation=90,size = 15)\n",
    "plt.yticks(size = 15)\n",
    "count = 0\n",
    "for i in req_values['Match Counts']:\n",
    "    plt.text(count,i+1,str(i),color='black',size=15)\n",
    "    count+=1\n",
    "plt.bar(req_values['city'],req_values['Match Counts'])\n",
    "plt.show()\n",
    "\n"
   ]
  },
  {
   "cell_type": "markdown",
   "id": "a50f01c4",
   "metadata": {},
   "source": [
    "## 6.To find the most winning team for each season."
   ]
  },
  {
   "cell_type": "code",
   "execution_count": null,
   "id": "df78aec9",
   "metadata": {},
   "outputs": [],
   "source": [
    "teams_per_season = df.groupby('season')['winner'].value_counts()\n",
    "teams_per_season"
   ]
  },
  {
   "cell_type": "code",
   "execution_count": null,
   "id": "31050acb",
   "metadata": {},
   "outputs": [],
   "source": [
    "\"\"\"\n",
    "for i, v in win_per_season.iteritems():\n",
    "    print(i, v)\n",
    "    \n",
    "for items in win_per_season.iteritems():\n",
    "    print(items)    \n",
    "\"\"\"\n",
    "year = 2008\n",
    "win_per_season_df = pd.DataFrame(columns=['year', 'team', 'wins'])\n",
    "for items in teams_per_season.iteritems():    \n",
    "    if items[0][0]==year:\n",
    "        print(items)\n",
    "        win_series = pd.DataFrame({\n",
    "            'year': [items[0][0]],\n",
    "            'team': [items[0][1]],\n",
    "            'wins': [items[1]]\n",
    "        })\n",
    "        win_per_season_df = win_per_season_df.append(win_series)\n",
    "        year += 1   "
   ]
  },
  {
   "cell_type": "code",
   "execution_count": null,
   "id": "7a536647",
   "metadata": {},
   "outputs": [],
   "source": [
    "win_per_season_df\n",
    "# export to xlsx\n",
    "# win_per_season_df.to_excel('../output/6_winning_team_per_season.xlsx')"
   ]
  },
  {
   "cell_type": "markdown",
   "id": "5a78df81",
   "metadata": {},
   "source": [
    "## Plotting"
   ]
  },
  {
   "cell_type": "code",
   "execution_count": null,
   "id": "bf39aab3",
   "metadata": {},
   "outputs": [],
   "source": [
    "sns.barplot(x='wins', y='team', hue='year', data=win_per_season_df, palette='Paired');"
   ]
  },
  {
   "cell_type": "markdown",
   "id": "9b8d2dbb",
   "metadata": {},
   "source": [
    "## 7.To find the on-field umpire with the maximum number of IPL matches"
   ]
  },
  {
   "cell_type": "code",
   "execution_count": null,
   "id": "0954926c",
   "metadata": {},
   "outputs": [],
   "source": [
    "u1 = df['umpire1'].value_counts()\n",
    "u2 = df['umpire2'].value_counts()\n",
    "ump = pd.concat([u1, u2], axis=1)\n",
    "umpire_ser = ump.sum(axis=1)\n",
    "\n",
    "umpire_df = pd.DataFrame(columns=[\"umpire\", \"matches\"])\n",
    "\n",
    "for items in umpire_ser.iteritems():\n",
    "    temp_df4 = pd.DataFrame({\n",
    "        'umpire':[items[0]],\n",
    "        'matches':[items[1]]\n",
    "    })\n",
    "    umpire_df= umpire_df.append(temp_df4, ignore_index=True) \n",
    "umpire_df.sort_values('matches',ascending=False).head()\n",
    "# export to xlsx\n",
    "# umpire_df.to_excel('../output/7_most_umpire_on_field.xlsx')"
   ]
  },
  {
   "cell_type": "markdown",
   "id": "6539da3f",
   "metadata": {},
   "source": [
    "## Plotting"
   ]
  },
  {
   "cell_type": "code",
   "execution_count": null,
   "id": "ed6b8236",
   "metadata": {},
   "outputs": [],
   "source": [
    "# Top 5 umpires \n",
    "umpire_df = umpire_df.head()\n",
    "plt.bar(umpire_df['umpire'], umpire_df['matches'])\n",
    "plt.title(\"Most Umpires On Field\", fontsize=25)\n",
    "plt.xticks(rotation = 90, size=15)\n",
    "plt.yticks(size=15)\n",
    "plt.show()"
   ]
  },
  {
   "cell_type": "markdown",
   "id": "87dd1287",
   "metadata": {},
   "source": [
    "### 8.To find the biggest victories in IPL while defending a total and while chasing a total."
   ]
  },
  {
   "cell_type": "markdown",
   "id": "e545970e",
   "metadata": {},
   "source": [
    "###            Defending Victory"
   ]
  },
  {
   "cell_type": "code",
   "execution_count": 27,
   "id": "aee77fba",
   "metadata": {
    "scrolled": true
   },
   "outputs": [
    {
     "data": {
      "text/plain": [
       "146      1\n",
       "105      1\n",
       "87       1\n",
       "42       1\n",
       "93       1\n",
       "      ... \n",
       "1       10\n",
       "10      11\n",
       "4       11\n",
       "14      13\n",
       "0      419\n",
       "Name: win_by_runs, Length: 89, dtype: int64"
      ]
     },
     "execution_count": 27,
     "metadata": {},
     "output_type": "execute_result"
    }
   ],
   "source": [
    "# Defending Score\n",
    "defend_vict_ser = df['win_by_runs'].value_counts()\n",
    "defend_vict_ser.sort_values(ascending=True)"
   ]
  },
  {
   "cell_type": "code",
   "execution_count": 28,
   "id": "738150c3",
   "metadata": {
    "scrolled": true
   },
   "outputs": [
    {
     "name": "stdout",
     "output_type": "stream",
     "text": [
      "id                               44\n",
      "season                         2017\n",
      "city                          Delhi\n",
      "date                     06-05-2017\n",
      "team1                Mumbai Indians\n",
      "team2              Delhi Daredevils\n",
      "toss_winner        Delhi Daredevils\n",
      "toss_decision                 field\n",
      "result                       normal\n",
      "dl_applied                        0\n",
      "winner               Mumbai Indians\n",
      "win_by_runs                     146\n",
      "win_by_wickets                    0\n",
      "player_of_match         LMP Simmons\n",
      "venue              Feroz Shah Kotla\n",
      "umpire1                 Nitin Menon\n",
      "umpire2                   CK Nandan\n",
      "umpire3                         NaN\n",
      "Name: 43, dtype: object\n"
     ]
    }
   ],
   "source": [
    "score = 146\n",
    "for index, row in df.iterrows():\n",
    "    if(row['win_by_runs'] == score):\n",
    "        print(row)  "
   ]
  },
  {
   "cell_type": "code",
   "execution_count": 29,
   "id": "53a663fc",
   "metadata": {},
   "outputs": [
    {
     "data": {
      "text/html": [
       "<div>\n",
       "<style scoped>\n",
       "    .dataframe tbody tr th:only-of-type {\n",
       "        vertical-align: middle;\n",
       "    }\n",
       "\n",
       "    .dataframe tbody tr th {\n",
       "        vertical-align: top;\n",
       "    }\n",
       "\n",
       "    .dataframe thead th {\n",
       "        text-align: right;\n",
       "    }\n",
       "</style>\n",
       "<table border=\"1\" class=\"dataframe\">\n",
       "  <thead>\n",
       "    <tr style=\"text-align: right;\">\n",
       "      <th></th>\n",
       "      <th>victory_margin</th>\n",
       "      <th>instances</th>\n",
       "    </tr>\n",
       "  </thead>\n",
       "  <tbody>\n",
       "    <tr>\n",
       "      <th>1</th>\n",
       "      <td>14</td>\n",
       "      <td>13</td>\n",
       "    </tr>\n",
       "    <tr>\n",
       "      <th>2</th>\n",
       "      <td>4</td>\n",
       "      <td>11</td>\n",
       "    </tr>\n",
       "    <tr>\n",
       "      <th>3</th>\n",
       "      <td>10</td>\n",
       "      <td>11</td>\n",
       "    </tr>\n",
       "    <tr>\n",
       "      <th>4</th>\n",
       "      <td>1</td>\n",
       "      <td>10</td>\n",
       "    </tr>\n",
       "    <tr>\n",
       "      <th>5</th>\n",
       "      <td>9</td>\n",
       "      <td>9</td>\n",
       "    </tr>\n",
       "    <tr>\n",
       "      <th>...</th>\n",
       "      <td>...</td>\n",
       "      <td>...</td>\n",
       "    </tr>\n",
       "    <tr>\n",
       "      <th>84</th>\n",
       "      <td>66</td>\n",
       "      <td>1</td>\n",
       "    </tr>\n",
       "    <tr>\n",
       "      <th>85</th>\n",
       "      <td>64</td>\n",
       "      <td>1</td>\n",
       "    </tr>\n",
       "    <tr>\n",
       "      <th>86</th>\n",
       "      <td>59</td>\n",
       "      <td>1</td>\n",
       "    </tr>\n",
       "    <tr>\n",
       "      <th>87</th>\n",
       "      <td>62</td>\n",
       "      <td>1</td>\n",
       "    </tr>\n",
       "    <tr>\n",
       "      <th>88</th>\n",
       "      <td>146</td>\n",
       "      <td>1</td>\n",
       "    </tr>\n",
       "  </tbody>\n",
       "</table>\n",
       "<p>88 rows × 2 columns</p>\n",
       "</div>"
      ],
      "text/plain": [
       "   victory_margin instances\n",
       "1              14        13\n",
       "2               4        11\n",
       "3              10        11\n",
       "4               1        10\n",
       "5               9         9\n",
       "..            ...       ...\n",
       "84             66         1\n",
       "85             64         1\n",
       "86             59         1\n",
       "87             62         1\n",
       "88            146         1\n",
       "\n",
       "[88 rows x 2 columns]"
      ]
     },
     "execution_count": 29,
     "metadata": {},
     "output_type": "execute_result"
    }
   ],
   "source": [
    "defending_vict_df = pd.DataFrame(columns=['victory_margin', 'instances'])\n",
    "\n",
    "for items in defend_vict_ser.iteritems():    \n",
    "    temp_df7 = pd.DataFrame({\n",
    "        'victory_margin': [items[0]],\n",
    "        'instances': [items[1]]\n",
    "    })\n",
    "    defending_vict_df = defending_vict_df.append(temp_df7, ignore_index=True)\n",
    "    \n",
    "#to drop the first row as it represents victory margin of zero wickets(victory by defending a total)\n",
    "defending_vict_df2 = defending_vict_df.drop([0]) \n",
    "# exports\n",
    "# defending_vict_df2.to_excel('../output/8_defending_vict.xlsx')\n",
    "defending_vict_df2\n"
   ]
  },
  {
   "cell_type": "markdown",
   "id": "90e553a1",
   "metadata": {},
   "source": [
    "## Plotting"
   ]
  },
  {
   "cell_type": "code",
   "execution_count": 30,
   "id": "b2d1f827",
   "metadata": {},
   "outputs": [
    {
     "data": {
      "image/png": "[encoded data removed]",
      "text/plain": [
       "<Figure size 432x288 with 1 Axes>"
      ]
     },
     "metadata": {
      "needs_background": "light"
     },
     "output_type": "display_data"
    }
   ],
   "source": [
    "plt.title('The IPL victories in numbers when defending a total')\n",
    "sns.barplot(x='victory_margin', y='instances', data=defending_vict_df2);\n",
    "# defend_vict_ser"
   ]
  },
  {
   "cell_type": "markdown",
   "id": "5fab2757",
   "metadata": {},
   "source": [
    "### Chasing Victory"
   ]
  },
  {
   "cell_type": "code",
   "execution_count": 31,
   "id": "19646d1d",
   "metadata": {},
   "outputs": [
    {
     "data": {
      "text/plain": [
       "0     350\n",
       "6      85\n",
       "7      80\n",
       "5      71\n",
       "8      54\n",
       "4      41\n",
       "9      37\n",
       "3      18\n",
       "10     11\n",
       "2       6\n",
       "1       3\n",
       "Name: win_by_wickets, dtype: int64"
      ]
     },
     "execution_count": 31,
     "metadata": {},
     "output_type": "execute_result"
    }
   ],
   "source": [
    "chasing_vict_ser = df['win_by_wickets'].value_counts()\n",
    "chasing_vict_ser"
   ]
  },
  {
   "cell_type": "code",
   "execution_count": 32,
   "id": "88d80e60",
   "metadata": {},
   "outputs": [
    {
     "name": "stdout",
     "output_type": "stream",
     "text": [
      "id                                                      3\n",
      "season                                               2017\n",
      "city                                               Rajkot\n",
      "date                                           07-04-2017\n",
      "team1                                       Gujarat Lions\n",
      "team2                               Kolkata Knight Riders\n",
      "toss_winner                         Kolkata Knight Riders\n",
      "toss_decision                                       field\n",
      "result                                             normal\n",
      "dl_applied                                              0\n",
      "winner                              Kolkata Knight Riders\n",
      "win_by_runs                                             0\n",
      "win_by_wickets                                         10\n",
      "player_of_match                                   CA Lynn\n",
      "venue              Saurashtra Cricket Association Stadium\n",
      "umpire1                                       Nitin Menon\n",
      "umpire2                                         CK Nandan\n",
      "umpire3                                               NaN\n",
      "Name: 2, dtype: object\n",
      "id                                                 35\n",
      "season                                           2017\n",
      "city                                       Chandigarh\n",
      "date                                       30-04-2017\n",
      "team1                                Delhi Daredevils\n",
      "team2                                 Kings XI Punjab\n",
      "toss_winner                           Kings XI Punjab\n",
      "toss_decision                                   field\n",
      "result                                         normal\n",
      "dl_applied                                          0\n",
      "winner                                Kings XI Punjab\n",
      "win_by_runs                                         0\n",
      "win_by_wickets                                     10\n",
      "player_of_match                        Sandeep Sharma\n",
      "venue              Punjab Cricket Association Stadium\n",
      "umpire1                                      YC Barde\n",
      "umpire2                                     CK Nandan\n",
      "umpire3                                           NaN\n",
      "Name: 34, dtype: object\n",
      "id                                         72\n",
      "season                                   2008\n",
      "city                                   Mumbai\n",
      "date                               27-04-2008\n",
      "team1                          Mumbai Indians\n",
      "team2                     Sunrisers Hyderabad\n",
      "toss_winner               Sunrisers Hyderabad\n",
      "toss_decision                           field\n",
      "result                                 normal\n",
      "dl_applied                                  0\n",
      "winner                    Sunrisers Hyderabad\n",
      "win_by_runs                                 0\n",
      "win_by_wickets                             10\n",
      "player_of_match                  AC Gilchrist\n",
      "venue              Dr DY Patil Sports Academy\n",
      "umpire1                             Asad Rauf\n",
      "umpire2                            SL Shastri\n",
      "umpire3                                   NaN\n",
      "Name: 71, dtype: object\n",
      "id                              120\n",
      "season                         2009\n",
      "city                      Cape Town\n",
      "date                     19-04-2009\n",
      "team1               Kings XI Punjab\n",
      "team2              Delhi Daredevils\n",
      "toss_winner        Delhi Daredevils\n",
      "toss_decision                 field\n",
      "result                       normal\n",
      "dl_applied                        1\n",
      "winner             Delhi Daredevils\n",
      "win_by_runs                       0\n",
      "win_by_wickets                   10\n",
      "player_of_match          DL Vettori\n",
      "venue                      Newlands\n",
      "umpire1                   MR Benson\n",
      "umpire2                   SD Ranade\n",
      "umpire3                         NaN\n",
      "Name: 119, dtype: object\n",
      "id                                         184\n",
      "season                                    2010\n",
      "city                                 Bengaluru\n",
      "date                                18-03-2010\n",
      "team1                         Rajasthan Royals\n",
      "team2              Royal Challengers Bangalore\n",
      "toss_winner        Royal Challengers Bangalore\n",
      "toss_decision                            field\n",
      "result                                  normal\n",
      "dl_applied                                   0\n",
      "winner             Royal Challengers Bangalore\n",
      "win_by_runs                                  0\n",
      "win_by_wickets                              10\n",
      "player_of_match                      JH Kallis\n",
      "venue                   M. Chinnaswamy Stadium\n",
      "umpire1                            K Hariharan\n",
      "umpire2                              DJ Harper\n",
      "umpire3                                    NaN\n",
      "Name: 183, dtype: object\n",
      "id                              299\n",
      "season                         2011\n",
      "city                         Mumbai\n",
      "date                     20-05-2011\n",
      "team1                Mumbai Indians\n",
      "team2              Rajasthan Royals\n",
      "toss_winner          Mumbai Indians\n",
      "toss_decision                   bat\n",
      "result                       normal\n",
      "dl_applied                        0\n",
      "winner             Rajasthan Royals\n",
      "win_by_runs                       0\n",
      "win_by_wickets                   10\n",
      "player_of_match           SR Watson\n",
      "venue              Wankhede Stadium\n",
      "umpire1                 RE Koertzen\n",
      "umpire2                  PR Reiffel\n",
      "umpire3                         NaN\n",
      "Name: 298, dtype: object\n",
      "id                                    377\n",
      "season                               2012\n",
      "city                               Jaipur\n",
      "date                           20-05-2012\n",
      "team1                    Rajasthan Royals\n",
      "team2                      Mumbai Indians\n",
      "toss_winner              Rajasthan Royals\n",
      "toss_decision                         bat\n",
      "result                             normal\n",
      "dl_applied                              0\n",
      "winner                     Mumbai Indians\n",
      "win_by_runs                             0\n",
      "win_by_wickets                         10\n",
      "player_of_match                  DR Smith\n",
      "venue              Sawai Mansingh Stadium\n",
      "umpire1                   HDPK Dharmasena\n",
      "umpire2                     C Shamshuddin\n",
      "umpire3                               NaN\n",
      "Name: 376, dtype: object\n",
      "id                                                391\n",
      "season                                           2013\n",
      "city                                       Chandigarh\n",
      "date                                       10-04-2013\n",
      "team1                                 Kings XI Punjab\n",
      "team2                             Chennai Super Kings\n",
      "toss_winner                       Chennai Super Kings\n",
      "toss_decision                                   field\n",
      "result                                         normal\n",
      "dl_applied                                          0\n",
      "winner                            Chennai Super Kings\n",
      "win_by_runs                                         0\n",
      "win_by_wickets                                     10\n",
      "player_of_match                            MEK Hussey\n",
      "venue              Punjab Cricket Association Stadium\n",
      "umpire1                                     Aleem Dar\n",
      "umpire2                                 C Shamshuddin\n",
      "umpire3                                           NaN\n",
      "Name: 390, dtype: object\n",
      "id                                         543\n",
      "season                                    2015\n",
      "city                                     Delhi\n",
      "date                                26-04-2015\n",
      "team1                         Delhi Daredevils\n",
      "team2              Royal Challengers Bangalore\n",
      "toss_winner        Royal Challengers Bangalore\n",
      "toss_decision                            field\n",
      "result                                  normal\n",
      "dl_applied                                   0\n",
      "winner             Royal Challengers Bangalore\n",
      "win_by_runs                                  0\n",
      "win_by_wickets                              10\n",
      "player_of_match                       VR Aaron\n",
      "venue                         Feroz Shah Kotla\n",
      "umpire1                              M Erasmus\n",
      "umpire2                                 S Ravi\n",
      "umpire3                                    NaN\n",
      "Name: 542, dtype: object\n",
      "id                                                    591\n",
      "season                                               2016\n",
      "city                                               Rajkot\n",
      "date                                           21-04-2016\n",
      "team1                                       Gujarat Lions\n",
      "team2                                 Sunrisers Hyderabad\n",
      "toss_winner                           Sunrisers Hyderabad\n",
      "toss_decision                                       field\n",
      "result                                             normal\n",
      "dl_applied                                              0\n",
      "winner                                Sunrisers Hyderabad\n",
      "win_by_runs                                             0\n",
      "win_by_wickets                                         10\n",
      "player_of_match                                   B Kumar\n",
      "venue              Saurashtra Cricket Association Stadium\n",
      "umpire1                                        K Bharatan\n",
      "umpire2                                   HDPK Dharmasena\n",
      "umpire3                                               NaN\n",
      "Name: 590, dtype: object\n",
      "id                                        7941\n",
      "season                                    2018\n",
      "city                                    Indore\n",
      "date                                14-05-2018\n",
      "team1                          Kings XI Punjab\n",
      "team2              Royal Challengers Bangalore\n",
      "toss_winner        Royal Challengers Bangalore\n",
      "toss_decision                            field\n",
      "result                                  normal\n",
      "dl_applied                                   0\n",
      "winner             Royal Challengers Bangalore\n",
      "win_by_runs                                  0\n",
      "win_by_wickets                              10\n",
      "player_of_match                       UT Yadav\n",
      "venue                   Holkar Cricket Stadium\n",
      "umpire1                         Bruce Oxenford\n",
      "umpire2                  Virender Kumar Sharma\n",
      "umpire3                               O Nandan\n",
      "Name: 683, dtype: object\n"
     ]
    }
   ],
   "source": [
    "for index, row in df.iterrows():\n",
    "    if(row['win_by_wickets'] == 10):\n",
    "        print(row)"
   ]
  },
  {
   "cell_type": "code",
   "execution_count": 33,
   "id": "ff88277c",
   "metadata": {},
   "outputs": [
    {
     "data": {
      "text/html": [
       "<div>\n",
       "<style scoped>\n",
       "    .dataframe tbody tr th:only-of-type {\n",
       "        vertical-align: middle;\n",
       "    }\n",
       "\n",
       "    .dataframe tbody tr th {\n",
       "        vertical-align: top;\n",
       "    }\n",
       "\n",
       "    .dataframe thead th {\n",
       "        text-align: right;\n",
       "    }\n",
       "</style>\n",
       "<table border=\"1\" class=\"dataframe\">\n",
       "  <thead>\n",
       "    <tr style=\"text-align: right;\">\n",
       "      <th></th>\n",
       "      <th>victory_margin</th>\n",
       "      <th>instances</th>\n",
       "    </tr>\n",
       "  </thead>\n",
       "  <tbody>\n",
       "    <tr>\n",
       "      <th>1</th>\n",
       "      <td>6</td>\n",
       "      <td>85</td>\n",
       "    </tr>\n",
       "    <tr>\n",
       "      <th>2</th>\n",
       "      <td>7</td>\n",
       "      <td>80</td>\n",
       "    </tr>\n",
       "    <tr>\n",
       "      <th>3</th>\n",
       "      <td>5</td>\n",
       "      <td>71</td>\n",
       "    </tr>\n",
       "    <tr>\n",
       "      <th>4</th>\n",
       "      <td>8</td>\n",
       "      <td>54</td>\n",
       "    </tr>\n",
       "    <tr>\n",
       "      <th>5</th>\n",
       "      <td>4</td>\n",
       "      <td>41</td>\n",
       "    </tr>\n",
       "    <tr>\n",
       "      <th>6</th>\n",
       "      <td>9</td>\n",
       "      <td>37</td>\n",
       "    </tr>\n",
       "    <tr>\n",
       "      <th>7</th>\n",
       "      <td>3</td>\n",
       "      <td>18</td>\n",
       "    </tr>\n",
       "    <tr>\n",
       "      <th>8</th>\n",
       "      <td>10</td>\n",
       "      <td>11</td>\n",
       "    </tr>\n",
       "    <tr>\n",
       "      <th>9</th>\n",
       "      <td>2</td>\n",
       "      <td>6</td>\n",
       "    </tr>\n",
       "    <tr>\n",
       "      <th>10</th>\n",
       "      <td>1</td>\n",
       "      <td>3</td>\n",
       "    </tr>\n",
       "  </tbody>\n",
       "</table>\n",
       "</div>"
      ],
      "text/plain": [
       "   victory_margin instances\n",
       "1               6        85\n",
       "2               7        80\n",
       "3               5        71\n",
       "4               8        54\n",
       "5               4        41\n",
       "6               9        37\n",
       "7               3        18\n",
       "8              10        11\n",
       "9               2         6\n",
       "10              1         3"
      ]
     },
     "execution_count": 33,
     "metadata": {},
     "output_type": "execute_result"
    }
   ],
   "source": [
    "chasing_vict_df = pd.DataFrame(columns=['victory_margin', 'instances'])\n",
    "\n",
    "for items in chasing_vict_ser.iteritems():    \n",
    "    temp_df7 = pd.DataFrame({\n",
    "        'victory_margin': [items[0]],\n",
    "        'instances': [items[1]]\n",
    "    })\n",
    "    chasing_vict_df = chasing_vict_df.append(temp_df7, ignore_index=True)\n",
    "    \n",
    "#to drop the first row as it represents victory margin of zero wickets(victory by defending a total)\n",
    "chasing_vict_df2 = chasing_vict_df.drop([0]) \n",
    "# exports\n",
    "# chasing_vict_df2.to_excel('../output/8_chasing_vic.xlsx')\n",
    "chasing_vict_df2"
   ]
  },
  {
   "cell_type": "markdown",
   "id": "dcd51403",
   "metadata": {},
   "source": [
    "## Plotting"
   ]
  },
  {
   "cell_type": "code",
   "execution_count": 34,
   "id": "b16fd70e",
   "metadata": {},
   "outputs": [
    {
     "data": {
      "image/png": "[encoded data removed]",
      "text/plain": [
       "<Figure size 432x288 with 1 Axes>"
      ]
     },
     "metadata": {
      "needs_background": "light"
     },
     "output_type": "display_data"
    }
   ],
   "source": [
    "plt.title('The IPL victories in numbers when chasing a total')\n",
    "sns.barplot(x='victory_margin', y='instances', data=chasing_vict_df2);"
   ]
  },
  {
   "cell_type": "markdown",
   "id": "982f2e1d",
   "metadata": {},
   "source": [
    "## 9.Which team won the most matches while batting first."
   ]
  },
  {
   "cell_type": "code",
   "execution_count": null,
   "id": "f59dc928",
   "metadata": {},
   "outputs": [],
   "source": [
    "# Picking up who choosed batting first\n",
    "bat = df.loc[df['toss_decision'] == 'bat']\n",
    "# to_drop = ['season', 'city', 'date', 'win_by_runs','result','dl_applied','win_by_wickets', 'player_of_match', 'venue', 'umpire1', 'umpire2', 'umpire3']\n",
    "drop = ['id','team1','team2', 'toss_winner', 'toss_decision', 'winner']  # required columns\n",
    "bat.drop(bat.columns.difference(drop), 1, inplace=True)\n",
    "# bat.head()"
   ]
  },
  {
   "cell_type": "code",
   "execution_count": null,
   "id": "4f71a7a8",
   "metadata": {},
   "outputs": [],
   "source": [
    "bat_first = pd.DataFrame({'Batting First':bat['winner']})\n",
    "bat_first = bat_first.value_counts()\n",
    "\n",
    "# Generating Labels and values\n",
    "bat_labels = [x[0] for x in bat_first.keys()]\n",
    "bat_values = bat_first.to_list()\n",
    "# export to xlsx\n",
    "# bat_first.to_excel('../output/9_won_by_batting_first.xlsx')"
   ]
  },
  {
   "cell_type": "markdown",
   "id": "f23e3447",
   "metadata": {},
   "source": [
    "## Plotting "
   ]
  },
  {
   "cell_type": "code",
   "execution_count": null,
   "id": "a0389fcb",
   "metadata": {},
   "outputs": [],
   "source": [
    "plt.bar(bat_labels, bat_values)\n",
    "plt.title(\"Most Matches won while batting First\", fontsize=25)\n",
    "plt.xticks(rotation = 90, size=15)\n",
    "plt.yticks(size=15)\n",
    "plt.show()"
   ]
  },
  {
   "cell_type": "markdown",
   "id": "5375e49a",
   "metadata": {},
   "source": [
    "## 10.Which team won the most matches while batting second."
   ]
  },
  {
   "cell_type": "code",
   "execution_count": null,
   "id": "34343551",
   "metadata": {},
   "outputs": [],
   "source": [
    "# Picking up who took batting second\n",
    "field = df.loc[df['toss_decision'] == 'field']\n",
    "# to_drop = ['season', 'city', 'date', 'win_by_runs','result','dl_applied','win_by_wickets', 'player_of_match', 'venue', 'umpire1', 'umpire2', 'umpire3']\n",
    "drop = ['id','team1','team2', 'toss_winner', 'toss_decision', 'winner']  # required columns\n",
    "field.drop(field.columns.difference(drop), 1, inplace=True)\n",
    "# field.head()\n"
   ]
  },
  {
   "cell_type": "code",
   "execution_count": null,
   "id": "a653643c",
   "metadata": {},
   "outputs": [],
   "source": [
    "batting_second = pd.DataFrame({'Batting Second': field['winner']})\n",
    "batting_second = batting_second.value_counts()\n",
    "\n",
    "# picking up the lables\n",
    "field_label = [x[0] for x in batting_second.keys()]\n",
    "field_values = batting_second.to_list()\n",
    "# export to xlsx\n",
    "batting_second.to_excel('../output/10_won_by_batting_second.xlsx')\n",
    "batting_second"
   ]
  },
  {
   "cell_type": "markdown",
   "id": "0fa2908b",
   "metadata": {},
   "source": [
    "## Plotting"
   ]
  },
  {
   "cell_type": "code",
   "execution_count": null,
   "id": "f028a2b3",
   "metadata": {
    "scrolled": true
   },
   "outputs": [],
   "source": [
    "plt.bar(field_label, field_values)\n",
    "plt.title(\"Most Matches won while batting Second\", fontsize=20)\n",
    "plt.xticks(rotation = 90, size=15)\n",
    "plt.yticks(size=15)\n",
    "plt.show()"
   ]
  },
  {
   "cell_type": "markdown",
   "id": "af59bcb4",
   "metadata": {},
   "source": [
    "### 11. List of teams which have won matches by most runs cumulatively"
   ]
  },
  {
   "cell_type": "code",
   "execution_count": null,
   "id": "24159fb5",
   "metadata": {
    "scrolled": true
   },
   "outputs": [],
   "source": [
    "mrc = df.sort_values('win_by_runs',ascending = False).reset_index(drop = True)\n",
    "mrc = mrc[:10]\n",
    "mrc = mrc[['winner','win_by_runs']]\n",
    "\n",
    "#export to xlsx\n",
    "# mrc.to_excel(\"../output/11_Win_Most_Runs_cumulatively.xlsx\")\n",
    "mrc"
   ]
  },
  {
   "cell_type": "code",
   "execution_count": null,
   "id": "f4c0df82",
   "metadata": {},
   "outputs": [],
   "source": []
  }
 ],
 "metadata": {
  "kernelspec": {
   "display_name": "Python 3",
   "language": "python",
   "name": "python3"
  },
  "language_info": {
   "codemirror_mode": {
    "name": "ipython",
    "version": 3
   },
   "file_extension": ".py",
   "mimetype": "text/x-python",
   "name": "python",
   "nbconvert_exporter": "python",
   "pygments_lexer": "ipython3",
   "version": "3.8.8"
  }
 },
 "nbformat": 4,
 "nbformat_minor": 5
}
